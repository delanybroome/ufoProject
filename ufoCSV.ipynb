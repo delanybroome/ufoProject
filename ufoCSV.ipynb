{
 "metadata": {
  "language_info": {
   "codemirror_mode": {
    "name": "ipython",
    "version": 3
   },
   "file_extension": ".py",
   "mimetype": "text/x-python",
   "name": "python",
   "nbconvert_exporter": "python",
   "pygments_lexer": "ipython3",
   "version": "3.7.6-final"
  },
  "orig_nbformat": 2,
  "kernelspec": {
   "name": "python3",
   "display_name": "Python 3"
  }
 },
 "nbformat": 4,
 "nbformat_minor": 2,
 "cells": [
  {
   "cell_type": "code",
   "execution_count": 1,
   "metadata": {},
   "outputs": [
    {
     "output_type": "execute_result",
     "data": {
      "text/plain": "                   date        city state country     shape    duration  \\\n0      10/10/1949 20:30  san marcos    tx      us  cylinder  45 minutes   \n1      10/10/1960 20:00     kaneohe    hi      us     light  15 minutes   \n2      10/10/1961 19:00     bristol    tn      us    sphere   5 minutes   \n3      10/10/1965 23:45     norwalk    ct      us      disk  20 minutes   \n4      10/10/1966 20:00   pell city    al      us      disk  3  minutes   \n...                 ...         ...   ...     ...       ...         ...   \n66510    9/9/2013 21:15   nashville    tn      us     light  10 minutes   \n66511    9/9/2013 22:00       boise    id      us    circle  20 minutes   \n66512    9/9/2013 22:00        napa    ca      us     other        hour   \n66513    9/9/2013 22:20      vienna    va      us    circle   5 seconds   \n66514    9/9/2013 23:00      edmond    ok      us     cigar  17 minutes   \n\n                                                comments        lat  \\\n0      This event took place in early fall around 194...  29.883056   \n1      AS a Marine 1st Lt. flying an FJ4B fighter/att...  21.418056   \n2      My father is now 89 my brother 52 the girl wit...  36.595000   \n3      A bright orange color changing to reddish colo...  41.117500   \n4      Strobe Lighted disk shape object observed clos...  33.586111   \n...                                                  ...        ...   \n66510  Round from the distance/slowly changing colors...  36.165833   \n66511  Boise&#44 ID&#44 spherical&#44 20 min&#44 10 r...  43.613611   \n66512                                       Napa UFO&#44  38.297222   \n66513  Saw a five gold lit cicular craft moving fastl...  38.901111   \n66514  2 witnesses 2  miles apart&#44 Red &amp; White...  35.652778   \n\n              lng  \n0      -97.941111  \n1     -157.803611  \n2      -82.188889  \n3      -73.408333  \n4      -86.286111  \n...           ...  \n66510  -86.784444  \n66511 -116.202500  \n66512 -122.284444  \n66513  -77.265556  \n66514  -97.477778  \n\n[66515 rows x 9 columns]",
      "text/html": "<div>\n<style scoped>\n    .dataframe tbody tr th:only-of-type {\n        vertical-align: middle;\n    }\n\n    .dataframe tbody tr th {\n        vertical-align: top;\n    }\n\n    .dataframe thead th {\n        text-align: right;\n    }\n</style>\n<table border=\"1\" class=\"dataframe\">\n  <thead>\n    <tr style=\"text-align: right;\">\n      <th></th>\n      <th>date</th>\n      <th>city</th>\n      <th>state</th>\n      <th>country</th>\n      <th>shape</th>\n      <th>duration</th>\n      <th>comments</th>\n      <th>lat</th>\n      <th>lng</th>\n    </tr>\n  </thead>\n  <tbody>\n    <tr>\n      <th>0</th>\n      <td>10/10/1949 20:30</td>\n      <td>san marcos</td>\n      <td>tx</td>\n      <td>us</td>\n      <td>cylinder</td>\n      <td>45 minutes</td>\n      <td>This event took place in early fall around 194...</td>\n      <td>29.883056</td>\n      <td>-97.941111</td>\n    </tr>\n    <tr>\n      <th>1</th>\n      <td>10/10/1960 20:00</td>\n      <td>kaneohe</td>\n      <td>hi</td>\n      <td>us</td>\n      <td>light</td>\n      <td>15 minutes</td>\n      <td>AS a Marine 1st Lt. flying an FJ4B fighter/att...</td>\n      <td>21.418056</td>\n      <td>-157.803611</td>\n    </tr>\n    <tr>\n      <th>2</th>\n      <td>10/10/1961 19:00</td>\n      <td>bristol</td>\n      <td>tn</td>\n      <td>us</td>\n      <td>sphere</td>\n      <td>5 minutes</td>\n      <td>My father is now 89 my brother 52 the girl wit...</td>\n      <td>36.595000</td>\n      <td>-82.188889</td>\n    </tr>\n    <tr>\n      <th>3</th>\n      <td>10/10/1965 23:45</td>\n      <td>norwalk</td>\n      <td>ct</td>\n      <td>us</td>\n      <td>disk</td>\n      <td>20 minutes</td>\n      <td>A bright orange color changing to reddish colo...</td>\n      <td>41.117500</td>\n      <td>-73.408333</td>\n    </tr>\n    <tr>\n      <th>4</th>\n      <td>10/10/1966 20:00</td>\n      <td>pell city</td>\n      <td>al</td>\n      <td>us</td>\n      <td>disk</td>\n      <td>3  minutes</td>\n      <td>Strobe Lighted disk shape object observed clos...</td>\n      <td>33.586111</td>\n      <td>-86.286111</td>\n    </tr>\n    <tr>\n      <th>...</th>\n      <td>...</td>\n      <td>...</td>\n      <td>...</td>\n      <td>...</td>\n      <td>...</td>\n      <td>...</td>\n      <td>...</td>\n      <td>...</td>\n      <td>...</td>\n    </tr>\n    <tr>\n      <th>66510</th>\n      <td>9/9/2013 21:15</td>\n      <td>nashville</td>\n      <td>tn</td>\n      <td>us</td>\n      <td>light</td>\n      <td>10 minutes</td>\n      <td>Round from the distance/slowly changing colors...</td>\n      <td>36.165833</td>\n      <td>-86.784444</td>\n    </tr>\n    <tr>\n      <th>66511</th>\n      <td>9/9/2013 22:00</td>\n      <td>boise</td>\n      <td>id</td>\n      <td>us</td>\n      <td>circle</td>\n      <td>20 minutes</td>\n      <td>Boise&amp;#44 ID&amp;#44 spherical&amp;#44 20 min&amp;#44 10 r...</td>\n      <td>43.613611</td>\n      <td>-116.202500</td>\n    </tr>\n    <tr>\n      <th>66512</th>\n      <td>9/9/2013 22:00</td>\n      <td>napa</td>\n      <td>ca</td>\n      <td>us</td>\n      <td>other</td>\n      <td>hour</td>\n      <td>Napa UFO&amp;#44</td>\n      <td>38.297222</td>\n      <td>-122.284444</td>\n    </tr>\n    <tr>\n      <th>66513</th>\n      <td>9/9/2013 22:20</td>\n      <td>vienna</td>\n      <td>va</td>\n      <td>us</td>\n      <td>circle</td>\n      <td>5 seconds</td>\n      <td>Saw a five gold lit cicular craft moving fastl...</td>\n      <td>38.901111</td>\n      <td>-77.265556</td>\n    </tr>\n    <tr>\n      <th>66514</th>\n      <td>9/9/2013 23:00</td>\n      <td>edmond</td>\n      <td>ok</td>\n      <td>us</td>\n      <td>cigar</td>\n      <td>17 minutes</td>\n      <td>2 witnesses 2  miles apart&amp;#44 Red &amp;amp; White...</td>\n      <td>35.652778</td>\n      <td>-97.477778</td>\n    </tr>\n  </tbody>\n</table>\n<p>66515 rows × 9 columns</p>\n</div>"
     },
     "metadata": {},
     "execution_count": 1
    }
   ],
   "source": [
    "import pandas as pd;\n",
    "\n",
    "df = pd.read_csv(\"ufoData.csv\")\n",
    "df"
   ]
  },
  {
   "cell_type": "code",
   "execution_count": 11,
   "metadata": {},
   "outputs": [],
   "source": [
    "us_df = df[df['country'] == 'us']\n",
    "us168_df = us_df.sort_values('date').reset_index(drop=True).head(168)\n",
    "us1680_df = us_df.sort_values('date').reset_index(drop=True).head(1680)"
   ]
  },
  {
   "cell_type": "code",
   "execution_count": 16,
   "metadata": {},
   "outputs": [],
   "source": [
    "us168_df.to_csv('us168ufoData.csv', index=False, header=True)"
   ]
  },
  {
   "cell_type": "code",
   "execution_count": 17,
   "metadata": {},
   "outputs": [
    {
     "output_type": "execute_result",
     "data": {
      "text/plain": "               date         city state country     shape             duration  \\\n0    1/1/1944 12:00    san diego    ca      us     cigar            3 minutes   \n1     1/1/1956 5:30      weirton    wv      us      disk           10 seconds   \n2    1/1/1957 21:00       dallas    tx      us   unknown           20 seconds   \n3    1/1/1958 22:00          pep    tx      us  fireball                 2sec   \n4    1/1/1961 12:00  santa clara    ca      us    circle              3 hours   \n..              ...          ...   ...     ...       ...                  ...   \n163  1/1/2007 16:30  miami lakes    fl      us  changing           20 minutes   \n164  1/1/2007 18:08   eagle pass    tx      us    circle           15 minutes   \n165  1/1/2007 19:00      chicago    il      us     light  approx. 1 hr. or so   \n166  1/1/2007 19:00     magnolia    ar      us   unknown            5 minutes   \n167  1/1/2007 19:30        salem    or      us   unknown        15-20 seconds   \n\n                                              comments        lat         lng  \n0    A sighting of one silver or white enlongated c...  32.715278 -117.156389  \n1    My Uncle Sam was driving to work very early on...  40.418889  -80.589722  \n2    I was flying the first of 4 USAF aircraft on a...  32.783333  -96.800000  \n3    Green fire balls&#44 Texas Panhandle&#44 late ...  33.816111 -102.557778  \n4           Stationary circular object 12 oclock high.  37.354167 -121.954167  \n..                                                 ...        ...         ...  \n163  strange objects on new year&#39s day&#44 2007 ...  25.908333  -80.308889  \n164  Dark circular object seen over a deserted ranc...  28.708889 -100.499167  \n165                      Ball of changing light colors  41.850000  -87.650000  \n166  Unidentified aircraft playing tag in the night...  33.266944  -93.239167  \n167  Lights moving from south to north&#44 low to g...  44.943056 -123.033889  \n\n[168 rows x 9 columns]",
      "text/html": "<div>\n<style scoped>\n    .dataframe tbody tr th:only-of-type {\n        vertical-align: middle;\n    }\n\n    .dataframe tbody tr th {\n        vertical-align: top;\n    }\n\n    .dataframe thead th {\n        text-align: right;\n    }\n</style>\n<table border=\"1\" class=\"dataframe\">\n  <thead>\n    <tr style=\"text-align: right;\">\n      <th></th>\n      <th>date</th>\n      <th>city</th>\n      <th>state</th>\n      <th>country</th>\n      <th>shape</th>\n      <th>duration</th>\n      <th>comments</th>\n      <th>lat</th>\n      <th>lng</th>\n    </tr>\n  </thead>\n  <tbody>\n    <tr>\n      <th>0</th>\n      <td>1/1/1944 12:00</td>\n      <td>san diego</td>\n      <td>ca</td>\n      <td>us</td>\n      <td>cigar</td>\n      <td>3 minutes</td>\n      <td>A sighting of one silver or white enlongated c...</td>\n      <td>32.715278</td>\n      <td>-117.156389</td>\n    </tr>\n    <tr>\n      <th>1</th>\n      <td>1/1/1956 5:30</td>\n      <td>weirton</td>\n      <td>wv</td>\n      <td>us</td>\n      <td>disk</td>\n      <td>10 seconds</td>\n      <td>My Uncle Sam was driving to work very early on...</td>\n      <td>40.418889</td>\n      <td>-80.589722</td>\n    </tr>\n    <tr>\n      <th>2</th>\n      <td>1/1/1957 21:00</td>\n      <td>dallas</td>\n      <td>tx</td>\n      <td>us</td>\n      <td>unknown</td>\n      <td>20 seconds</td>\n      <td>I was flying the first of 4 USAF aircraft on a...</td>\n      <td>32.783333</td>\n      <td>-96.800000</td>\n    </tr>\n    <tr>\n      <th>3</th>\n      <td>1/1/1958 22:00</td>\n      <td>pep</td>\n      <td>tx</td>\n      <td>us</td>\n      <td>fireball</td>\n      <td>2sec</td>\n      <td>Green fire balls&amp;#44 Texas Panhandle&amp;#44 late ...</td>\n      <td>33.816111</td>\n      <td>-102.557778</td>\n    </tr>\n    <tr>\n      <th>4</th>\n      <td>1/1/1961 12:00</td>\n      <td>santa clara</td>\n      <td>ca</td>\n      <td>us</td>\n      <td>circle</td>\n      <td>3 hours</td>\n      <td>Stationary circular object 12 oclock high.</td>\n      <td>37.354167</td>\n      <td>-121.954167</td>\n    </tr>\n    <tr>\n      <th>...</th>\n      <td>...</td>\n      <td>...</td>\n      <td>...</td>\n      <td>...</td>\n      <td>...</td>\n      <td>...</td>\n      <td>...</td>\n      <td>...</td>\n      <td>...</td>\n    </tr>\n    <tr>\n      <th>163</th>\n      <td>1/1/2007 16:30</td>\n      <td>miami lakes</td>\n      <td>fl</td>\n      <td>us</td>\n      <td>changing</td>\n      <td>20 minutes</td>\n      <td>strange objects on new year&amp;#39s day&amp;#44 2007 ...</td>\n      <td>25.908333</td>\n      <td>-80.308889</td>\n    </tr>\n    <tr>\n      <th>164</th>\n      <td>1/1/2007 18:08</td>\n      <td>eagle pass</td>\n      <td>tx</td>\n      <td>us</td>\n      <td>circle</td>\n      <td>15 minutes</td>\n      <td>Dark circular object seen over a deserted ranc...</td>\n      <td>28.708889</td>\n      <td>-100.499167</td>\n    </tr>\n    <tr>\n      <th>165</th>\n      <td>1/1/2007 19:00</td>\n      <td>chicago</td>\n      <td>il</td>\n      <td>us</td>\n      <td>light</td>\n      <td>approx. 1 hr. or so</td>\n      <td>Ball of changing light colors</td>\n      <td>41.850000</td>\n      <td>-87.650000</td>\n    </tr>\n    <tr>\n      <th>166</th>\n      <td>1/1/2007 19:00</td>\n      <td>magnolia</td>\n      <td>ar</td>\n      <td>us</td>\n      <td>unknown</td>\n      <td>5 minutes</td>\n      <td>Unidentified aircraft playing tag in the night...</td>\n      <td>33.266944</td>\n      <td>-93.239167</td>\n    </tr>\n    <tr>\n      <th>167</th>\n      <td>1/1/2007 19:30</td>\n      <td>salem</td>\n      <td>or</td>\n      <td>us</td>\n      <td>unknown</td>\n      <td>15-20 seconds</td>\n      <td>Lights moving from south to north&amp;#44 low to g...</td>\n      <td>44.943056</td>\n      <td>-123.033889</td>\n    </tr>\n  </tbody>\n</table>\n<p>168 rows × 9 columns</p>\n</div>"
     },
     "metadata": {},
     "execution_count": 17
    }
   ],
   "source": [
    "us168_df"
   ]
  },
  {
   "cell_type": "code",
   "execution_count": 21,
   "metadata": {},
   "outputs": [
    {
     "output_type": "execute_result",
     "data": {
      "text/plain": "            lng        lat            date\n0   -117.156389  32.715278  1/1/1944 12:00\n1    -80.589722  40.418889   1/1/1956 5:30\n2    -96.800000  32.783333  1/1/1957 21:00\n3   -102.557778  33.816111  1/1/1958 22:00\n4   -121.954167  37.354167  1/1/1961 12:00\n..          ...        ...             ...\n163  -80.308889  25.908333  1/1/2007 16:30\n164 -100.499167  28.708889  1/1/2007 18:08\n165  -87.650000  41.850000  1/1/2007 19:00\n166  -93.239167  33.266944  1/1/2007 19:00\n167 -123.033889  44.943056  1/1/2007 19:30\n\n[168 rows x 3 columns]",
      "text/html": "<div>\n<style scoped>\n    .dataframe tbody tr th:only-of-type {\n        vertical-align: middle;\n    }\n\n    .dataframe tbody tr th {\n        vertical-align: top;\n    }\n\n    .dataframe thead th {\n        text-align: right;\n    }\n</style>\n<table border=\"1\" class=\"dataframe\">\n  <thead>\n    <tr style=\"text-align: right;\">\n      <th></th>\n      <th>lng</th>\n      <th>lat</th>\n      <th>date</th>\n    </tr>\n  </thead>\n  <tbody>\n    <tr>\n      <th>0</th>\n      <td>-117.156389</td>\n      <td>32.715278</td>\n      <td>1/1/1944 12:00</td>\n    </tr>\n    <tr>\n      <th>1</th>\n      <td>-80.589722</td>\n      <td>40.418889</td>\n      <td>1/1/1956 5:30</td>\n    </tr>\n    <tr>\n      <th>2</th>\n      <td>-96.800000</td>\n      <td>32.783333</td>\n      <td>1/1/1957 21:00</td>\n    </tr>\n    <tr>\n      <th>3</th>\n      <td>-102.557778</td>\n      <td>33.816111</td>\n      <td>1/1/1958 22:00</td>\n    </tr>\n    <tr>\n      <th>4</th>\n      <td>-121.954167</td>\n      <td>37.354167</td>\n      <td>1/1/1961 12:00</td>\n    </tr>\n    <tr>\n      <th>...</th>\n      <td>...</td>\n      <td>...</td>\n      <td>...</td>\n    </tr>\n    <tr>\n      <th>163</th>\n      <td>-80.308889</td>\n      <td>25.908333</td>\n      <td>1/1/2007 16:30</td>\n    </tr>\n    <tr>\n      <th>164</th>\n      <td>-100.499167</td>\n      <td>28.708889</td>\n      <td>1/1/2007 18:08</td>\n    </tr>\n    <tr>\n      <th>165</th>\n      <td>-87.650000</td>\n      <td>41.850000</td>\n      <td>1/1/2007 19:00</td>\n    </tr>\n    <tr>\n      <th>166</th>\n      <td>-93.239167</td>\n      <td>33.266944</td>\n      <td>1/1/2007 19:00</td>\n    </tr>\n    <tr>\n      <th>167</th>\n      <td>-123.033889</td>\n      <td>44.943056</td>\n      <td>1/1/2007 19:30</td>\n    </tr>\n  </tbody>\n</table>\n<p>168 rows × 3 columns</p>\n</div>"
     },
     "metadata": {},
     "execution_count": 21
    }
   ],
   "source": [
    "us168LLD_df = us168_df[['lng','lat','date']]\n",
    "us168LLD_df"
   ]
  },
  {
   "cell_type": "code",
   "execution_count": 22,
   "metadata": {},
   "outputs": [],
   "source": [
    "us168LLD_df.to_csv('us168ufoDataLLD.csv', index=False, header=True)"
   ]
  },
  {
   "cell_type": "code",
   "execution_count": null,
   "metadata": {},
   "outputs": [],
   "source": []
  }
 ]
}